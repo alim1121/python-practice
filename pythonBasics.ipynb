{
 "cells": [
  {
   "cell_type": "markdown",
   "id": "97676c11",
   "metadata": {},
   "source": [
    "# 0.Variables"
   ]
  },
  {
   "cell_type": "code",
   "execution_count": null,
   "id": "51fbf3b9",
   "metadata": {},
   "outputs": [],
   "source": [
    "us_name = 5.43"
   ]
  },
  {
   "cell_type": "code",
   "execution_count": null,
   "id": "3a9e2f7b",
   "metadata": {},
   "outputs": [],
   "source": [
    "print(us_name)"
   ]
  },
  {
   "cell_type": "code",
   "execution_count": null,
   "id": "4f1b5ec5",
   "metadata": {},
   "outputs": [],
   "source": [
    "type(us_name)"
   ]
  },
  {
   "cell_type": "markdown",
   "id": "2816c4f1",
   "metadata": {},
   "source": [
    "# 1.Datatypes"
   ]
  },
  {
   "cell_type": "code",
   "execution_count": null,
   "id": "83c4bb89",
   "metadata": {},
   "outputs": [],
   "source": [
    " #This is a comment, declaring a variable as a string\n",
    "string_variable = 'string'\n",
    "print(string_variable)"
   ]
  },
  {
   "cell_type": "code",
   "execution_count": null,
   "id": "58d133fe",
   "metadata": {},
   "outputs": [],
   "source": [
    "# This is declaring a variable as an integer\n",
    "integer_variable = 6\n",
    "type(integer_variable)"
   ]
  },
  {
   "cell_type": "code",
   "execution_count": null,
   "id": "d04bd49a",
   "metadata": {},
   "outputs": [],
   "source": [
    "# This is a float variable, basically double\n",
    "float_var = 6.5\n",
    "type(float_var)"
   ]
  },
  {
   "cell_type": "code",
   "execution_count": null,
   "id": "c2378f9a",
   "metadata": {},
   "outputs": [],
   "source": [
    "# This is assigning a boolean value to a variable\n",
    "# Make sure you capitalize first letter of boolean value, since True is a reserved word\n",
    "bool_variable = True\n",
    "# Another way of assigning bools is throgh parameter of 0 or 1, where 0 represents false\n",
    "bool_variable = bool(0)\n",
    "print(bool_variable)"
   ]
  },
  {
   "cell_type": "code",
   "execution_count": null,
   "id": "f8b9321e",
   "metadata": {},
   "outputs": [],
   "source": [
    "# This is creating a list variable\n",
    "# A key characteristic of list is the square bracket\n",
    "list_variable = [1,1,1,4,6,3.2,54,6.7]\n",
    "# Notice that you can enter multiple value types in this, unlike java\n",
    "type(list_variable)"
   ]
  },
  {
   "cell_type": "code",
   "execution_count": null,
   "id": "fc5ed1b5",
   "metadata": {},
   "outputs": [],
   "source": [
    "list_variable"
   ]
  },
  {
   "cell_type": "code",
   "execution_count": null,
   "id": "f7a71f2f",
   "metadata": {},
   "outputs": [],
   "source": [
    "list_variable[0]"
   ]
  },
  {
   "cell_type": "code",
   "execution_count": null,
   "id": "251f8c9b",
   "metadata": {},
   "outputs": [],
   "source": [
    "# A list is not immutable\n",
    "list_variable[0] = 543\n",
    "list_variable[0]"
   ]
  },
  {
   "cell_type": "code",
   "execution_count": null,
   "id": "b3beda1e",
   "metadata": {},
   "outputs": [],
   "source": [
    "# To find the length of a list:\n",
    "len(list_variable) "
   ]
  },
  {
   "cell_type": "code",
   "execution_count": null,
   "id": "59dac1b9",
   "metadata": {},
   "outputs": [],
   "source": [
    "# A tuple creates a list which is immutable, note that unlike a list, it has round parentheses\n",
    "tuple_variable = (1,4,6,3.2,54,6.7)\n",
    "type(tuple_variable)"
   ]
  },
  {
   "cell_type": "code",
   "execution_count": null,
   "id": "d169bd16",
   "metadata": {},
   "outputs": [],
   "source": [
    "tuple_variable"
   ]
  },
  {
   "cell_type": "code",
   "execution_count": null,
   "id": "5153369c",
   "metadata": {},
   "outputs": [],
   "source": [
    "# Even though to create a tuple it has to have parentheses, use square brackets to call an index\n",
    "tuple_variable[0]"
   ]
  },
  {
   "cell_type": "code",
   "execution_count": null,
   "id": "a853099c",
   "metadata": {},
   "outputs": [],
   "source": [
    "# This is creating a set variable, which uses curly brackets. Also immutable.\n",
    "# Main characteristic: Can not have duplicate values\n",
    "set_variable = {1,1,1,4,6,3.2,54,6.7}\n",
    "type(set_variable)"
   ]
  },
  {
   "cell_type": "code",
   "execution_count": null,
   "id": "ff697fb1",
   "metadata": {},
   "outputs": [],
   "source": [
    "# Note this will not have duplicates in it\n",
    "set_variable"
   ]
  },
  {
   "cell_type": "code",
   "execution_count": null,
   "id": "dbabc466",
   "metadata": {},
   "outputs": [],
   "source": [
    "# Typecast list to set, then back to list to remove duplicates\n",
    "(set(list_variable))"
   ]
  },
  {
   "cell_type": "code",
   "execution_count": null,
   "id": "c98a60b2",
   "metadata": {},
   "outputs": [],
   "source": [
    "# Defining a dictionary variable, also uses curly brackets\n",
    "# A dictionary is keys and values paired\n",
    "dict_variable = {'name': 'Ali', 'color': 'blue', 'age': 19}\n",
    "type(dict_variable)"
   ]
  },
  {
   "cell_type": "code",
   "execution_count": null,
   "id": "1302794d",
   "metadata": {},
   "outputs": [],
   "source": [
    "dict_variable"
   ]
  },
  {
   "cell_type": "code",
   "execution_count": null,
   "id": "670acbab",
   "metadata": {},
   "outputs": [],
   "source": [
    "# Pass in the name of a key, and the value will be returned. Cannot enter index.\n",
    "dict_variable['color']"
   ]
  },
  {
   "cell_type": "code",
   "execution_count": null,
   "id": "976e431a",
   "metadata": {},
   "outputs": [],
   "source": [
    "# You can create a dictionary/set and add to it later, just start off with: \n",
    "add_to = {}"
   ]
  },
  {
   "cell_type": "markdown",
   "id": "2ae3f59d",
   "metadata": {},
   "source": [
    "# 2.Lists"
   ]
  },
  {
   "cell_type": "code",
   "execution_count": null,
   "id": "decc6fe8",
   "metadata": {},
   "outputs": [],
   "source": [
    "# CRUD: Create, Read, Update, Delete"
   ]
  },
  {
   "cell_type": "code",
   "execution_count": null,
   "id": "61835712",
   "metadata": {},
   "outputs": [],
   "source": [
    "# Create\n",
    "names = ['neil', 'buzz', 'sally', 'armstrong', 'yuri']"
   ]
  },
  {
   "cell_type": "code",
   "execution_count": null,
   "id": "ca1b87c2",
   "metadata": {},
   "outputs": [],
   "source": [
    "# Read\n",
    "names[0]"
   ]
  },
  {
   "cell_type": "code",
   "execution_count": null,
   "id": "2919f52c",
   "metadata": {},
   "outputs": [],
   "source": [
    "# Putting in a negative just tells to go the other way around\n",
    "names[-1]"
   ]
  },
  {
   "cell_type": "code",
   "execution_count": null,
   "id": "8b5d6481",
   "metadata": {},
   "outputs": [],
   "source": [
    "len(names)"
   ]
  },
  {
   "cell_type": "code",
   "execution_count": null,
   "id": "0f08bb3d",
   "metadata": {},
   "outputs": [],
   "source": [
    "# Update\n",
    "names[-1] = 'Ali'\n",
    "names.append('Obama')\n",
    "names"
   ]
  },
  {
   "cell_type": "code",
   "execution_count": null,
   "id": "ffb268a4",
   "metadata": {},
   "outputs": [],
   "source": [
    "names.insert(0, 'Richard')\n",
    "names"
   ]
  },
  {
   "cell_type": "code",
   "execution_count": null,
   "id": "d563d3da",
   "metadata": {},
   "outputs": [],
   "source": [
    "# Delete\n",
    "del names[-1]\n",
    "names"
   ]
  },
  {
   "cell_type": "markdown",
   "id": "ef0ca366",
   "metadata": {},
   "source": [
    "# 3. Dictionaries"
   ]
  },
  {
   "cell_type": "code",
   "execution_count": null,
   "id": "cbea6dfd",
   "metadata": {},
   "outputs": [],
   "source": [
    "# Create\n",
    "astronaut = {\n",
    "    'name': 'Ali',\n",
    "    'suit size': 'Large',\n",
    "    'allergies': 'None'\n",
    "}"
   ]
  },
  {
   "cell_type": "code",
   "execution_count": null,
   "id": "c8e401e1",
   "metadata": {},
   "outputs": [],
   "source": [
    "# Read\n",
    "astronaut"
   ]
  },
  {
   "cell_type": "code",
   "execution_count": null,
   "id": "3e476617",
   "metadata": {},
   "outputs": [],
   "source": [
    "astronaut['suit size']"
   ]
  },
  {
   "cell_type": "code",
   "execution_count": null,
   "id": "d359bdb7",
   "metadata": {},
   "outputs": [],
   "source": [
    "astronaut.keys()"
   ]
  },
  {
   "cell_type": "code",
   "execution_count": null,
   "id": "47792fa2",
   "metadata": {},
   "outputs": [],
   "source": [
    "list(astronaut.keys())"
   ]
  },
  {
   "cell_type": "code",
   "execution_count": null,
   "id": "41caa681",
   "metadata": {},
   "outputs": [],
   "source": [
    "astronaut.values()"
   ]
  },
  {
   "cell_type": "code",
   "execution_count": null,
   "id": "089eaf07",
   "metadata": {},
   "outputs": [],
   "source": [
    "# Update\n",
    "astronaut['allergies'] = 'Still nothn'\n",
    "astronaut"
   ]
  },
  {
   "cell_type": "code",
   "execution_count": null,
   "id": "5160af71",
   "metadata": {},
   "outputs": [],
   "source": [
    "# To append to a dictionary\n",
    "astronaut['space ship'] = 'space one'\n",
    "astronaut"
   ]
  },
  {
   "cell_type": "code",
   "execution_count": null,
   "id": "200f9ab5",
   "metadata": {},
   "outputs": [],
   "source": [
    "# Delete\n",
    "del astronaut['space ship']\n",
    "astronaut"
   ]
  },
  {
   "cell_type": "markdown",
   "id": "027e4602",
   "metadata": {},
   "source": [
    "# 4. Conditions and Logic"
   ]
  },
  {
   "cell_type": "code",
   "execution_count": null,
   "id": "02a9e687",
   "metadata": {},
   "outputs": [],
   "source": [
    "# Applying logic using the if statement\n",
    "name = 'Ali'\n",
    "# logical operators == and != exist, also if statements mostly dont use parentheses\n",
    "if name == 'Neil Armstrong':\n",
    "    print('Sup Neil')"
   ]
  },
  {
   "cell_type": "code",
   "execution_count": null,
   "id": "9d74f55b",
   "metadata": {},
   "outputs": [],
   "source": [
    "probability = -0.73\n",
    "# probability is greater than 0.5\n",
    "if probability >= 0.5:\n",
    "    print(True)\n",
    "# print out error if probability is below 0\n",
    "elif probability < 0:\n",
    "    print('Check your probabilities')\n",
    "# Anything else\n",
    "else:\n",
    "    print(False)"
   ]
  },
  {
   "cell_type": "code",
   "execution_count": null,
   "id": "15c48bfb",
   "metadata": {},
   "outputs": [],
   "source": [
    "names = ['neil armstrong', 'sally ride', 'buzz', 'yuri', 'ella']\n",
    "# This is unique to python, in which you can quickly check if an element is present in an array\n",
    "# Returns a bool value\n",
    "if 'buzz' in names:\n",
    "    print('buzz is here')"
   ]
  },
  {
   "cell_type": "markdown",
   "id": "c3cfddb4",
   "metadata": {},
   "source": [
    "# 5. Loops "
   ]
  },
  {
   "cell_type": "code",
   "execution_count": null,
   "id": "bb2583ca",
   "metadata": {},
   "outputs": [],
   "source": [
    "# for loops\n",
    "# name is the individual variable that will get assigned all the values in names, one at a time\n",
    "# Use the continue keyword to skip the rest of the loop iteration, can help reduce run time\n",
    "# If there is an if statement, there MUST be an else statement in python\n",
    "# If you don't want the else statement to do anything, use the word: pass\n",
    "# Also, break statement stops the loop\n",
    "# In python, an if statement is called a condition block\n",
    "for name in names: \n",
    "    print(name)\n",
    "    if name == 'buzz':\n",
    "        print('Sup buzz\\n')\n",
    "        continue\n",
    "    elif name == 'yuri':\n",
    "        print('Hey  yuri')\n",
    "        # To stop the loop\n",
    "        break\n",
    "    else:\n",
    "        pass\n",
    "    print('Pleased to have you here\\n')"
   ]
  },
  {
   "cell_type": "code",
   "execution_count": null,
   "id": "3da9cac7",
   "metadata": {},
   "outputs": [],
   "source": [
    "# loop x number of times\n",
    "# This tells it to run 10 times\n",
    "##for idx in range(10):\n",
    "##    print(idx)\n",
    "for idx in range(1,11):\n",
    "    print(idx)"
   ]
  },
  {
   "cell_type": "code",
   "execution_count": null,
   "id": "31cb0631",
   "metadata": {},
   "outputs": [],
   "source": [
    "launched_shuttles = 0\n",
    "total_shuttles = 7\n",
    "# Create a while loop\n",
    "while True:\n",
    "    # String formatting, unique to python\n",
    "    print('Shuttle {} Launched'.format(launched_shuttles +1))\n",
    "    launched_shuttles += 1\n",
    "    \n",
    "    if launched_shuttles == total_shuttles:\n",
    "        print('All shuttles launched')\n",
    "        break"
   ]
  },
  {
   "cell_type": "code",
   "execution_count": null,
   "id": "d2470a0f",
   "metadata": {},
   "outputs": [],
   "source": [
    "astronaut = {'name': 'Ella',\n",
    "             'suit size': 'large',\n",
    "             'allergies': 'peanuts'\n",
    "            }"
   ]
  },
  {
   "cell_type": "code",
   "execution_count": null,
   "id": "c512be12",
   "metadata": {},
   "outputs": [],
   "source": [
    "# accessing dictionary keys\n",
    "astronaut.keys()"
   ]
  },
  {
   "cell_type": "code",
   "execution_count": null,
   "id": "f761a4c7",
   "metadata": {},
   "outputs": [],
   "source": [
    "# Loop through keys in a dictionary\n",
    "for key in astronaut.keys():\n",
    "    print(key)"
   ]
  },
  {
   "cell_type": "code",
   "execution_count": null,
   "id": "f59bec74",
   "metadata": {},
   "outputs": [],
   "source": [
    "# Accessing dictionary values\n",
    "astronaut.values()"
   ]
  },
  {
   "cell_type": "code",
   "execution_count": null,
   "id": "85583cff",
   "metadata": {},
   "outputs": [],
   "source": [
    "# Loop through values in a dictionary\n",
    "for value in astronaut.values():\n",
    "    print(value)"
   ]
  },
  {
   "cell_type": "code",
   "execution_count": null,
   "id": "e1193e3d",
   "metadata": {},
   "outputs": [],
   "source": [
    "# Returns a tuple\n",
    "astronaut.items()"
   ]
  },
  {
   "cell_type": "code",
   "execution_count": null,
   "id": "4a338ab6",
   "metadata": {},
   "outputs": [],
   "source": [
    "# Loop through keys and values in a dictionary\n",
    "for key, value in astronaut.items():\n",
    "    print(key)\n",
    "    print(value, '\\n')"
   ]
  },
  {
   "cell_type": "code",
   "execution_count": null,
   "id": "f286b28a",
   "metadata": {},
   "outputs": [],
   "source": [
    "# List comprehension\n",
    "# .title converts to title case, with capital first letters\n",
    "# To do this, make sure first two variable names are identical, in this case, they are titled: nameToConvert\n",
    "newList = [nameToConvert.title() for nameToConvert in names]"
   ]
  },
  {
   "cell_type": "code",
   "execution_count": null,
   "id": "f3b72018",
   "metadata": {},
   "outputs": [],
   "source": [
    "newList"
   ]
  },
  {
   "cell_type": "markdown",
   "id": "1d698634",
   "metadata": {},
   "source": [
    "# 6. Functions"
   ]
  },
  {
   "cell_type": "code",
   "execution_count": null,
   "id": "4b1b80c3",
   "metadata": {},
   "outputs": [],
   "source": [
    "# defining a function in Python - Recipe\n",
    "def launchpad_welcome():\n",
    "    print('hello')\n",
    "    print(1+7)"
   ]
  },
  {
   "cell_type": "code",
   "execution_count": null,
   "id": "f900180d",
   "metadata": {},
   "outputs": [],
   "source": [
    "# Running a function\n",
    "launchpad_welcome()"
   ]
  },
  {
   "cell_type": "code",
   "execution_count": null,
   "id": "719d0a44",
   "metadata": {},
   "outputs": [],
   "source": [
    "for idx in range(3):\n",
    "    launchpad_welcome()"
   ]
  },
  {
   "cell_type": "code",
   "execution_count": null,
   "id": "7917ad4f",
   "metadata": {},
   "outputs": [],
   "source": [
    "names = ['neil', 'buzz', 'sally', 'yuri', 'ali']"
   ]
  },
  {
   "cell_type": "code",
   "execution_count": null,
   "id": "fd6ab560",
   "metadata": {},
   "outputs": [],
   "source": [
    "# Different from methods in java since the type of the parameter is uneccesary\n",
    "# String formatting\n",
    "def custom_welcome(name):\n",
    "    print('Welcome {}'.format(name))"
   ]
  },
  {
   "cell_type": "code",
   "execution_count": null,
   "id": "3d0eb9c5",
   "metadata": {},
   "outputs": [],
   "source": [
    "for name in names:\n",
    "    custom_welcome(name)"
   ]
  },
  {
   "cell_type": "code",
   "execution_count": null,
   "id": "1c364c94",
   "metadata": {},
   "outputs": [],
   "source": [
    "# Multiple Positional Arguments (called positional since the order of the parameters matters)\n",
    "def custom_welcome_to_ship(name, space_ship):\n",
    "    print('Welcome {} to the {}'.format(name, space_ship))"
   ]
  },
  {
   "cell_type": "code",
   "execution_count": null,
   "id": "952d221f",
   "metadata": {},
   "outputs": [],
   "source": [
    "custom_welcome_to_ship('Ali', 'Space Force 1')"
   ]
  },
  {
   "cell_type": "code",
   "execution_count": null,
   "id": "1fda0fb7",
   "metadata": {},
   "outputs": [],
   "source": [
    "space_ships = ['gal1', 'appleShip', 'SupShip', 'ShipSup', 'WatShip']"
   ]
  },
  {
   "cell_type": "code",
   "execution_count": null,
   "id": "87a2810c",
   "metadata": {},
   "outputs": [],
   "source": [
    "# this is a way to map one list to another\n",
    "# Enumerate gives an identifier and value from list, in other words, the index and name\n",
    "for idx, name in enumerate(names):\n",
    "    custom_welcome_to_ship(name, space_ships[idx])"
   ]
  },
  {
   "cell_type": "code",
   "execution_count": null,
   "id": "bab950ad",
   "metadata": {},
   "outputs": [],
   "source": [
    "# This assigns a default value to the function if one is not passed\n",
    "# This is called a keyword argument\n",
    "# They differ from positional arguments since they can be put in any order when calling the function\n",
    "def space_suit(color = 'Blue'):\n",
    "    print('Your space suit is {}'.format(color))"
   ]
  },
  {
   "cell_type": "code",
   "execution_count": null,
   "id": "cdb3deed",
   "metadata": {},
   "outputs": [],
   "source": [
    "space_suit()"
   ]
  },
  {
   "cell_type": "code",
   "execution_count": null,
   "id": "3219a8c1",
   "metadata": {},
   "outputs": [],
   "source": [
    "space_suit('red')"
   ]
  },
  {
   "cell_type": "code",
   "execution_count": null,
   "id": "b53502a1",
   "metadata": {},
   "outputs": [],
   "source": [
    "def space_suit_welcome(name, space_ship, color = 'blue'):\n",
    "    print('Welcome {} to the {}, your suit is {}'.format(name, space_ship, color))"
   ]
  },
  {
   "cell_type": "code",
   "execution_count": null,
   "id": "d7f017a1",
   "metadata": {},
   "outputs": [],
   "source": [
    "space_suit_welcome('Ali', 'Space One', color = 'red')"
   ]
  },
  {
   "cell_type": "code",
   "execution_count": null,
   "id": "2ac018dc",
   "metadata": {},
   "outputs": [],
   "source": [
    "def  space_suit_welcome_with_return(name, space_ship, color = 'blue'):\n",
    "    return 'Welcome {} to the {}, your suit is {}'.format(name, space_ship, color)"
   ]
  },
  {
   "cell_type": "code",
   "execution_count": null,
   "id": "ac9e1fdd",
   "metadata": {},
   "outputs": [],
   "source": [
    "# This is an example of storing a functions value into a variable using return, just like java\n",
    "welcome = space_suit_welcome_with_return('Ali', 'Space One', color = 'red')"
   ]
  },
  {
   "cell_type": "code",
   "execution_count": null,
   "id": "bc5b91e2",
   "metadata": {},
   "outputs": [],
   "source": [
    "# lambda function, also known as anonymous function\n",
    "# They must be in a single line\n",
    "# Generally better for shorter, simple functions\n",
    "# This function here will take a value and multiply it by an approximation of pi (3.14)\n",
    "pi = lambda x: x*3.14"
   ]
  },
  {
   "cell_type": "code",
   "execution_count": null,
   "id": "d0caf7d6",
   "metadata": {},
   "outputs": [],
   "source": [
    "# This proves that a lambda function returns a value, instead of just printing it\n",
    "return_value = pi(2)"
   ]
  },
  {
   "cell_type": "code",
   "execution_count": null,
   "id": "37c0d689",
   "metadata": {},
   "outputs": [],
   "source": [
    "print(return_value)"
   ]
  },
  {
   "cell_type": "markdown",
   "id": "c70902d6",
   "metadata": {},
   "source": [
    "# 7. Classes"
   ]
  },
  {
   "cell_type": "code",
   "execution_count": null,
   "id": "f052375b",
   "metadata": {},
   "outputs": [],
   "source": [
    "# Classes are objects with defined properties and methods\n",
    "# Classes are boilerplates for objects\n",
    "# Good practice to capitalize the first letter of classes\n",
    "class Person():\n",
    "    # The method that runs as soon as you create a class. Also, self is necessary, basically tells the method to call itself...\n",
    "    # Think of this as the constructor. Self removes the need for the \"this\" keyword from java\n",
    "    def __init__(self, name, age, color):\n",
    "        self.name = name\n",
    "        self.age = age\n",
    "        self.color = color\n",
    "        \n",
    "    # Date of birth method\n",
    "    # Notice that their is a parameter here, but when calling it, since it is self, there are no parameters passed\n",
    "    def year_of_birth(self):\n",
    "        return 2021-self.age\n",
    "    \n",
    "    # Projected age\n",
    "    def projected_age(self, years = 5):\n",
    "        return self.age + years"
   ]
  },
  {
   "cell_type": "code",
   "execution_count": null,
   "id": "e55066b5",
   "metadata": {},
   "outputs": [],
   "source": [
    "new_person = Person('Muhammad Ali', 19, 'Blue')"
   ]
  },
  {
   "cell_type": "code",
   "execution_count": null,
   "id": "ae41b57d",
   "metadata": {},
   "outputs": [],
   "source": [
    "# Accessing a class attribute. Note: Does this mean by default, they are public, and if so, how to make them private?\n",
    "new_person.color"
   ]
  },
  {
   "cell_type": "code",
   "execution_count": null,
   "id": "52c7c443",
   "metadata": {},
   "outputs": [],
   "source": [
    "new_person.year_of_birth()"
   ]
  },
  {
   "cell_type": "code",
   "execution_count": null,
   "id": "87a21ed6",
   "metadata": {},
   "outputs": [],
   "source": [
    "new_person.projected_age(10)"
   ]
  },
  {
   "cell_type": "markdown",
   "id": "cc214a53",
   "metadata": {},
   "source": [
    "# INHERITANCE \n",
    "* PARENT is the class passing down attributes and methods, which CHILD will inherit\n",
    "* Parent in this case is person, while Astronaut is the child"
   ]
  },
  {
   "cell_type": "code",
   "execution_count": null,
   "id": "2c522271",
   "metadata": {},
   "outputs": [],
   "source": [
    "class Astronaut(Person):\n",
    "    \n",
    "    # Define initializer function\n",
    "    def __init__(self, name, age, color, mission_length_in_months):\n",
    "        # This is what gives us inheritance, super method\n",
    "        super().__init__(name, age, color)\n",
    "        self.mission_length_in_months = mission_length_in_months\n",
    "    \n",
    "    def age_on_return(self):\n",
    "        # To call a function from parent class, still use the self key word\n",
    "        # Type casting is the same as in java, but the parentheses are around the thing to be casted, not the type\n",
    "        return self.projected_age(years = int(self.mission_length_in_months/ 12))"
   ]
  },
  {
   "cell_type": "code",
   "execution_count": null,
   "id": "17ff0878",
   "metadata": {},
   "outputs": [],
   "source": [
    "new_astronaut = Astronaut('Ali', 19, 'green', 48)"
   ]
  },
  {
   "cell_type": "code",
   "execution_count": null,
   "id": "e03d624f",
   "metadata": {},
   "outputs": [],
   "source": [
    "new_astronaut.color"
   ]
  },
  {
   "cell_type": "code",
   "execution_count": null,
   "id": "940e2849",
   "metadata": {},
   "outputs": [],
   "source": [
    "new_astronaut.year_of_birth()"
   ]
  },
  {
   "cell_type": "code",
   "execution_count": null,
   "id": "94e9c9f0",
   "metadata": {},
   "outputs": [],
   "source": [
    "new_astronaut.age_on_return()"
   ]
  },
  {
   "cell_type": "markdown",
   "id": "29991abc",
   "metadata": {},
   "source": [
    "# 7. Modules"
   ]
  },
  {
   "cell_type": "code",
   "execution_count": null,
   "id": "748d7755",
   "metadata": {},
   "outputs": [],
   "source": [
    "# Import launch codes helper\n",
    "# hit tab after typing in import to see list of available functions \n",
    "# This helpers was created in vscode and saved in the same folder as this notebook\n",
    "from helpers import launch_codes"
   ]
  },
  {
   "cell_type": "code",
   "execution_count": null,
   "id": "bedf70c6",
   "metadata": {},
   "outputs": [],
   "source": [
    "launch_codes()"
   ]
  },
  {
   "cell_type": "markdown",
   "id": "1879eb38",
   "metadata": {},
   "source": [
    "# 8. Working with Packages"
   ]
  },
  {
   "cell_type": "code",
   "execution_count": null,
   "id": "3b13b5cc",
   "metadata": {},
   "outputs": [],
   "source": [
    "# The requests libaray allows you to install APIs.\n",
    "# The exlamation mark was what we added, as it tells the notebook to run this from a command prompt\n",
    "# Where did I get this command? From pypi.org. On the request page, it has directions near the top to install it. \n",
    "!pip install requests"
   ]
  },
  {
   "cell_type": "code",
   "execution_count": null,
   "id": "4ffe1c23",
   "metadata": {
    "scrolled": true
   },
   "outputs": [],
   "source": [
    "# This will list all of the different packages that we have available in our environment\n",
    "!pip list"
   ]
  },
  {
   "cell_type": "code",
   "execution_count": null,
   "id": "2b81daa6",
   "metadata": {},
   "outputs": [],
   "source": [
    "# This imports requests into our notebook\n",
    "import requests"
   ]
  },
  {
   "cell_type": "code",
   "execution_count": null,
   "id": "be3262c1",
   "metadata": {},
   "outputs": [],
   "source": [
    "# Can also hit tab after the . to see available methods\n",
    "requests.get??"
   ]
  },
  {
   "cell_type": "code",
   "execution_count": 10,
   "id": "99aa0d68",
   "metadata": {},
   "outputs": [],
   "source": [
    "# This is the I Can haz dad joke api endpoint (just the url that we will take the API from)\n",
    "joke_url = 'https://icanhazdadjoke.com'\n",
    "# Iss API Endpoint\n",
    "iss_url = 'https://api.wheretheiss.at/v1/satellites/25544'"
   ]
  },
  {
   "cell_type": "code",
   "execution_count": 18,
   "id": "9ae76145",
   "metadata": {},
   "outputs": [],
   "source": [
    "# First need to set up a header, think of it as metadata sent with our API call. \n",
    "my_header = {'Accept':'application/json'}\n",
    "\n",
    "# API call\n",
    "results = requests.get(joke_url, headers=my_header)"
   ]
  },
  {
   "cell_type": "code",
   "execution_count": 19,
   "id": "26046a92",
   "metadata": {},
   "outputs": [
    {
     "data": {
      "text/plain": [
       "<Response [200]>"
      ]
     },
     "execution_count": 19,
     "metadata": {},
     "output_type": "execute_result"
    }
   ],
   "source": [
    "# This will return a status code. 200 means good. Look up http status codes to see what it means.\n",
    "results"
   ]
  },
  {
   "cell_type": "code",
   "execution_count": 23,
   "id": "7eb1199e",
   "metadata": {},
   "outputs": [],
   "source": [
    "# results.json() returns a dictionary. store it to a variable. Remember, hit tab after . to see available methods.\n",
    "# To get another joke, run the cell with the api call again, then continue\n",
    "# Helpful to first type in results.json() by itself to see the keys in the dictionary, to know how to call its value.\n",
    "json_result = results.json()"
   ]
  },
  {
   "cell_type": "code",
   "execution_count": 24,
   "id": "50cc0fc9",
   "metadata": {},
   "outputs": [
    {
     "data": {
      "text/plain": [
       "'Did you know that ghosts call their true love their ghoul-friend?'"
      ]
     },
     "execution_count": 24,
     "metadata": {},
     "output_type": "execute_result"
    }
   ],
   "source": [
    "json_result['joke']"
   ]
  },
  {
   "cell_type": "code",
   "execution_count": 26,
   "id": "365e9e1f",
   "metadata": {},
   "outputs": [],
   "source": [
    "iss_results = requests.get(iss_url, headers = my_header)"
   ]
  },
  {
   "cell_type": "code",
   "execution_count": 27,
   "id": "2d12a648",
   "metadata": {},
   "outputs": [
    {
     "data": {
      "text/plain": [
       "<Response [200]>"
      ]
     },
     "execution_count": 27,
     "metadata": {},
     "output_type": "execute_result"
    }
   ],
   "source": [
    "iss_results"
   ]
  },
  {
   "cell_type": "code",
   "execution_count": 28,
   "id": "65ef0a0a",
   "metadata": {},
   "outputs": [
    {
     "data": {
      "text/plain": [
       "{'name': 'iss',\n",
       " 'id': 25544,\n",
       " 'latitude': 14.343666954596,\n",
       " 'longitude': -128.62346000867,\n",
       " 'altitude': 418.97006856305,\n",
       " 'velocity': 27580.10572373,\n",
       " 'visibility': 'eclipsed',\n",
       " 'footprint': 4502.2199157574,\n",
       " 'timestamp': 1661678999,\n",
       " 'daynum': 2459819.8958218,\n",
       " 'solar_lat': 9.6483521510413,\n",
       " 'solar_lon': 37.826277412511,\n",
       " 'units': 'kilometers'}"
      ]
     },
     "execution_count": 28,
     "metadata": {},
     "output_type": "execute_result"
    }
   ],
   "source": [
    "iss_results.json()"
   ]
  },
  {
   "cell_type": "code",
   "execution_count": 29,
   "id": "f2d279a1",
   "metadata": {},
   "outputs": [
    {
     "name": "stdout",
     "output_type": "stream",
     "text": [
      "418.97006856305\n"
     ]
    }
   ],
   "source": [
    "print(iss_results.json()['altitude'])"
   ]
  },
  {
   "cell_type": "markdown",
   "id": "18ae82e9",
   "metadata": {},
   "source": [
    "# 9. Working with Files"
   ]
  },
  {
   "cell_type": "code",
   "execution_count": 2,
   "id": "32bab87f",
   "metadata": {},
   "outputs": [],
   "source": [
    "# Write out our mission journal\n",
    "# Note, we created this file with this cell, we did not create the file beforehand\n",
    "# Use open?? and see different types of operations. By default, it is 'r', for read file. 'w' is to write. the f at the end\n",
    "# is just common convention. f is the variable name we assigned to the file.\n",
    "with open('mission_journal.txt', 'w') as f:\n",
    "    f.write('It is my first day on my space mission, it is cold here.')"
   ]
  },
  {
   "cell_type": "code",
   "execution_count": 3,
   "id": "8bf06092",
   "metadata": {},
   "outputs": [],
   "source": [
    "# read from journal\n",
    "with open('mission_journal.txt', 'r') as f:\n",
    "    file = f.read()"
   ]
  },
  {
   "cell_type": "code",
   "execution_count": 4,
   "id": "d0801508",
   "metadata": {},
   "outputs": [
    {
     "name": "stdout",
     "output_type": "stream",
     "text": [
      "It is my first day on my space mission, it is cold here.\n"
     ]
    }
   ],
   "source": [
    "print(file)"
   ]
  },
  {
   "cell_type": "markdown",
   "id": "043bca96",
   "metadata": {},
   "source": [
    "# 10. Error Handling"
   ]
  },
  {
   "cell_type": "code",
   "execution_count": 6,
   "id": "3d8ee3a7",
   "metadata": {},
   "outputs": [],
   "source": [
    "# Create a set\n",
    "new_set = {1,2,3,4,5,6}"
   ]
  },
  {
   "cell_type": "code",
   "execution_count": 10,
   "id": "b72f6b4a",
   "metadata": {},
   "outputs": [
    {
     "name": "stdout",
     "output_type": "stream",
     "text": [
      "'set' object does not support item assignment\n",
      "Something went wrong with your request.\n"
     ]
    }
   ],
   "source": [
    "# Since the set is immutable, trying to change an element will produce an error\n",
    "# Except is the catch from java. \n",
    "try: \n",
    "    new_set[0] = 4\n",
    "# Exception is  a reserved word, and e is the variable that represents our error\n",
    "except Exception as e:\n",
    "    print(e)\n",
    "    print('Something went wrong with your request.')"
   ]
  },
  {
   "cell_type": "code",
   "execution_count": null,
   "id": "89ee82eb",
   "metadata": {},
   "outputs": [],
   "source": []
  }
 ],
 "metadata": {
  "kernelspec": {
   "display_name": "Python 3 (ipykernel)",
   "language": "python",
   "name": "python3"
  },
  "language_info": {
   "codemirror_mode": {
    "name": "ipython",
    "version": 3
   },
   "file_extension": ".py",
   "mimetype": "text/x-python",
   "name": "python",
   "nbconvert_exporter": "python",
   "pygments_lexer": "ipython3",
   "version": "3.9.12"
  }
 },
 "nbformat": 4,
 "nbformat_minor": 5
}
